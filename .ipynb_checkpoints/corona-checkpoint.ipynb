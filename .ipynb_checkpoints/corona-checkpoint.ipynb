{
 "cells": [
  {
   "cell_type": "code",
   "execution_count": 62,
   "metadata": {},
   "outputs": [
    {
     "data": {
      "text/plain": [
       "[221,\n",
       " 319,\n",
       " 435,\n",
       " 541,\n",
       " 704,\n",
       " 994,\n",
       " 1301,\n",
       " 1630,\n",
       " 2183,\n",
       " 2770,\n",
       " 3613,\n",
       " 4596,\n",
       " 6344,\n",
       " 9197,\n",
       " 13779,\n",
       " 19367,\n",
       " 24192,\n",
       " 33592,\n",
       " 43781,\n",
       " 54856,\n",
       " 68211,\n",
       " 85435,\n",
       " 104126,\n",
       " 123578,\n",
       " 143491,\n",
       " 163788,\n",
       " 188530,\n",
       " 215003,\n",
       " 245080,\n",
       " 277467,\n",
       " 311357,\n",
       " 336673,\n",
       " 367000,\n",
       " 400412,\n",
       " 434927,\n",
       " 468566,\n",
       " 503177,\n",
       " 532879,\n",
       " 560300,\n",
       " 586941,\n",
       " 613886,\n",
       " 644089,\n",
       " 677570,\n",
       " 709735,\n",
       " 738792,\n",
       " 763832,\n",
       " 798145,\n",
       " 824229,\n",
       " 854385,\n",
       " 886274,\n",
       " 925232,\n",
       " 960651]"
      ]
     },
     "execution_count": 62,
     "metadata": {},
     "output_type": "execute_result"
    }
   ],
   "source": [
    "import pickle\n",
    "import os.path\n",
    "from googleapiclient.discovery import build\n",
    "from google_auth_oauthlib.flow import InstalledAppFlow\n",
    "from google.auth.transport.requests import Request\n",
    "\n",
    "import functools\n",
    "\n",
    "SCOPES = ['https://www.googleapis.com/auth/spreadsheets.readonly']\n",
    "SAMPLE_SPREADSHEET_ID = '1UFTRhXxV0Hd0DgTNXP1yznf8v52htAPk_brnytVnxMQ'\n",
    "SAMPLE_RANGE_NAME = 'Sheet1!B1:B52'\n",
    "\n",
    "\n",
    "creds = None\n",
    "if os.path.exists('token.pickle'):\n",
    "    with open('token.pickle', 'rb') as token:\n",
    "        creds = pickle.load(token)\n",
    "if not creds or not creds.valid:\n",
    "    if creds and creds.expired and creds.refresh_token:\n",
    "        creds.refresh(Request())\n",
    "    else:\n",
    "        flow = InstalledAppFlow.from_client_secrets_file(\"/Users/lanza/Downloads/credentials.json\", SCOPES)\n",
    "        creds = flow.run_local_server(port=0)\n",
    "    with open('token.pickle', 'wb') as token:\n",
    "        pickle.dump(creds, token)\n",
    "\n",
    "service = build('sheets', 'v4', credentials=creds)\n",
    "sheet = service.spreadsheets()\n",
    "result = sheet.values().get(spreadsheetId=SAMPLE_SPREADSHEET_ID,\n",
    "                                range=SAMPLE_RANGE_NAME).execute()\n",
    "values = result.get('values', [])\n",
    "flat = [item for sublist in values for item in sublist]\n",
    "\n",
    "values = [int(val.replace(',','')) for val in flat]\n",
    "indices = [index for index, value in enumerate(values)]\n"
   ]
  },
  {
   "cell_type": "code",
   "execution_count": 77,
   "metadata": {},
   "outputs": [],
   "source": [
    "import matplotlib.pyplot as plt\n",
    "import numpy"
   ]
  },
  {
   "cell_type": "code",
   "execution_count": 71,
   "metadata": {},
   "outputs": [
    {
     "data": {
      "text/plain": [
       "[98,\n",
       " 116,\n",
       " 106,\n",
       " 163,\n",
       " 290,\n",
       " 307,\n",
       " 329,\n",
       " 553,\n",
       " 587,\n",
       " 843,\n",
       " 983,\n",
       " 1748,\n",
       " 2853,\n",
       " 4582,\n",
       " 5588,\n",
       " 4825,\n",
       " 9400,\n",
       " 10189,\n",
       " 11075,\n",
       " 13355,\n",
       " 17224,\n",
       " 18691,\n",
       " 19452,\n",
       " 19913,\n",
       " 20297,\n",
       " 24742,\n",
       " 26473,\n",
       " 30077,\n",
       " 32387,\n",
       " 33890,\n",
       " 25316,\n",
       " 30327,\n",
       " 33412,\n",
       " 34515,\n",
       " 33639,\n",
       " 34611,\n",
       " 29702,\n",
       " 27421,\n",
       " 26641,\n",
       " 26945,\n",
       " 30203,\n",
       " 33481,\n",
       " 32165,\n",
       " 29057,\n",
       " 25040,\n",
       " 34313,\n",
       " 26084,\n",
       " 30156,\n",
       " 31889,\n",
       " 38958,\n",
       " 35419]"
      ]
     },
     "execution_count": 71,
     "metadata": {},
     "output_type": "execute_result"
    }
   ],
   "source": [
    "diffs = []\n",
    "for i in range(0, len(values) - 1):\n",
    "    diffs.append(values[i+1] - values[i])\n",
    "diffs"
   ]
  },
  {
   "cell_type": "code",
   "execution_count": 97,
   "metadata": {},
   "outputs": [
    {
     "data": {
      "text/plain": [
       "[<matplotlib.lines.Line2D at 0x7fef80773d10>]"
      ]
     },
     "execution_count": 97,
     "metadata": {},
     "output_type": "execute_result"
    },
    {
     "data": {
      "image/png": "[encoded data removed]",
      "text/plain": [
       "<Figure size 432x288 with 1 Axes>"
      ]
     },
     "metadata": {
      "needs_background": "light"
     },
     "output_type": "display_data"
    }
   ],
   "source": [
    "ind, val = zip(*enumerate(diffs))\n",
    "plt.plot(ind, val)\n",
    "plt.axis([0, 52, 0, 40000])\n",
    "\n",
    "\n",
    "# calc the trendline\n",
    "z = numpy.polyfit(ind, val, 12)\n",
    "p = numpy.poly1d(z)\n",
    "plt.plot(ind ,p(ind),\"r--\")"
   ]
  },
  {
   "cell_type": "code",
   "execution_count": 111,
   "metadata": {},
   "outputs": [
    {
     "data": {
      "application/vnd.jupyter.widget-view+json": {
       "model_id": "a7a0bdebc2e04648b161ce9d327beeba",
       "version_major": 2,
       "version_minor": 0
      },
      "text/plain": [
       "Sheet(cells=(Cell(column_end=0, column_start=0, row_end=0, row_start=0, type='text', value='Hello'), Cell(colu…"
      ]
     },
     "metadata": {},
     "output_type": "display_data"
    }
   ],
   "source": [
    "from ipysheet import sheet, cell, row, column, cell_range\n",
    "\n",
    "sheet1 = sheet(rows=3, columns=4)\n",
    "cell1 = cell(0, 0, 'Hello')\n",
    "cell2 = cell(2, 0, 'World')\n",
    "cell_value = cell(2, 2, 42.)\n",
    "\n",
    "sheet1"
   ]
  },
  {
   "cell_type": "code",
   "execution_count": 68,
   "metadata": {},
   "outputs": [
    {
     "data": {
      "image/png": "[encoded data removed]",
      "text/plain": [
       "<Figure size 432x288 with 1 Axes>"
      ]
     },
     "metadata": {
      "needs_background": "light"
     },
     "output_type": "display_data"
    }
   ],
   "source": [
    "plt.plot(indices, values)\n",
    "plt.axis([0, 52, 0, 1000000])\n",
    "plt.show()"
   ]
  }
 ],
 "metadata": {
  "kernelspec": {
   "display_name": "Python 3",
   "language": "python",
   "name": "python3"
  },
  "language_info": {
   "codemirror_mode": {
    "name": "ipython",
    "version": 3
   },
   "file_extension": ".py",
   "mimetype": "text/x-python",
   "name": "python",
   "nbconvert_exporter": "python",
   "pygments_lexer": "ipython3",
   "version": "3.7.6"
  }
 },
 "nbformat": 4,
 "nbformat_minor": 4
}
